{
 "cells": [
  {
   "cell_type": "markdown",
   "metadata": {},
   "source": [
    "# Structure\n",
    "***\n",
    "We will first cover the overall structure of a package in python.\n",
    "\n",
    "## 1. Pick a Name\n",
    "The first thing we have to do in a package is naming the package. Python has some constrainsts when it comes to naming packages, they are as follows:\n",
    "* All lowercase\n",
    "* Unique on PyPi if being shared. If it is going to be private it will have to be set.\n",
    "* Underscore-separated or no word separators at all (don’t use hyphens)\n",
    "\n",
    "Lets say we are creating the mydatastory package. The directory structure would look like:\n",
    "```\n",
    "mydatastory/\n",
    "    mydatastory/\n",
    "        __init__.py\n",
    "    setup.py\n",
    "```\n",
    "The top level directory `mydatastory` would be the git directoy and contain the `.git` and `ReadMe.md` files. The subdirectoy named `mydatastory` is the actual python module.  \n",
    "\n",
    "A python module is a file containing python code that you can call. A module refers to a 'file' in this case the file it is refering to is `__init__.py` which is a place holder for its directory which is `mydatastory`.  \n",
    "\n",
    "By this I mean the code inside `__init__.py` will be avilable when we do an `import mydatastory`. So all this means we put the code such as definitions and classes in the `__init__.py` file. We will keep this example simple and just add a single function to this file."
   ]
  },
  {
   "cell_type": "code",
   "execution_count": 20,
   "metadata": {},
   "outputs": [],
   "source": [
    "# Creating directories\n",
    "!mkdir mydatastory\n",
    "!mkdir mydatastory/mydatastory"
   ]
  },
  {
   "cell_type": "code",
   "execution_count": 21,
   "metadata": {},
   "outputs": [
    {
     "name": "stdout",
     "output_type": "stream",
     "text": [
      "mydatastory  Untitled.ipynb\r\n"
     ]
    }
   ],
   "source": [
    "!ls"
   ]
  },
  {
   "cell_type": "code",
   "execution_count": 22,
   "metadata": {},
   "outputs": [
    {
     "name": "stdout",
     "output_type": "stream",
     "text": [
      "mydatastory\r\n"
     ]
    }
   ],
   "source": [
    "!ls mydatastory"
   ]
  },
  {
   "cell_type": "markdown",
   "metadata": {},
   "source": [
    "The `!` before the above commands allows you to interact with your terminal directly from your jupyter notebook. `!mkdir` will work in Windows and Unix but `!ls` will not work if you are using Windows, instead use `!dir`."
   ]
  },
  {
   "cell_type": "code",
   "execution_count": 23,
   "metadata": {},
   "outputs": [],
   "source": [
    "# Create the __init__.py with a defined function\n",
    "#!echo \"def whatisthis(): return('This is a package')\" >> mydatastory/mydatastory/__init__.py"
   ]
  },
  {
   "cell_type": "code",
   "execution_count": 50,
   "metadata": {},
   "outputs": [
    {
     "name": "stdout",
     "output_type": "stream",
     "text": [
      "Overwriting mydatastory/mydatastory/__init__.py\n"
     ]
    }
   ],
   "source": [
    "%%writefile mydatastory/mydatastory/__init__.py\n",
    "def whatisthis():\n",
    "    return('This is a package.')"
   ]
  },
  {
   "cell_type": "code",
   "execution_count": 51,
   "metadata": {},
   "outputs": [
    {
     "name": "stdout",
     "output_type": "stream",
     "text": [
      "__init__.py\r\n"
     ]
    }
   ],
   "source": [
    "!ls mydatastory/mydatastory"
   ]
  },
  {
   "cell_type": "markdown",
   "metadata": {},
   "source": [
    "Now we can step back and look at what we have so far. Our directory stucture now looks like:\n",
    "```\n",
    "mydatastory/\n",
    "    mydatastory/\n",
    "        __init__.py\n",
    "```\n",
    "And all we have to do is add the `setup.py` file into the first `mydatastory` directory.  \n",
    "The main setup config file, `setup.py`, should contain a single call to `setuptools.setup()`, like so:"
   ]
  },
  {
   "cell_type": "code",
   "execution_count": 52,
   "metadata": {},
   "outputs": [
    {
     "name": "stdout",
     "output_type": "stream",
     "text": [
      "Overwriting mydatastory/setup.py\n"
     ]
    }
   ],
   "source": [
    "%%writefile mydatastory/setup.py\n",
    "from setuptools import setup\n",
    "\n",
    "setup(name='mydatastory',\n",
    "      version='0.1',\n",
    "      description='A package for story telling with data!',\n",
    "      url='http://github.com/mydatastory/package',\n",
    "      author='Creator',\n",
    "      author_email='creator@example.com',\n",
    "      license='MIT',\n",
    "      packages=['mydatastory'],\n",
    "      zip_safe=False)"
   ]
  },
  {
   "cell_type": "code",
   "execution_count": 53,
   "metadata": {},
   "outputs": [
    {
     "name": "stdout",
     "output_type": "stream",
     "text": [
      "mydatastory  setup.py\r\n"
     ]
    }
   ],
   "source": [
    "!ls mydatastory"
   ]
  },
  {
   "cell_type": "markdown",
   "metadata": {},
   "source": [
    "Now we can install our package locally:"
   ]
  },
  {
   "cell_type": "code",
   "execution_count": 56,
   "metadata": {},
   "outputs": [
    {
     "name": "stdout",
     "output_type": "stream",
     "text": [
      "Obtaining file:///home/greg/python/work%20stuff/package-tut/mydatastory\n",
      "Installing collected packages: mydatastory\n",
      "  Running setup.py develop for mydatastory\n",
      "Successfully installed mydatastory\n"
     ]
    }
   ],
   "source": [
    "!pip install -e mydatastory"
   ]
  },
  {
   "cell_type": "code",
   "execution_count": 58,
   "metadata": {},
   "outputs": [
    {
     "ename": "AttributeError",
     "evalue": "module 'mydatastory' has no attribute 'whatisthis'",
     "output_type": "error",
     "traceback": [
      "\u001b[0;31m---------------------------------------------------------------------------\u001b[0m",
      "\u001b[0;31mAttributeError\u001b[0m                            Traceback (most recent call last)",
      "\u001b[0;32m<ipython-input-58-3a0d22bbc1d2>\u001b[0m in \u001b[0;36m<module>\u001b[0;34m()\u001b[0m\n\u001b[1;32m      1\u001b[0m \u001b[0;32mimport\u001b[0m \u001b[0mmydatastory\u001b[0m\u001b[0;34m\u001b[0m\u001b[0m\n\u001b[1;32m      2\u001b[0m \u001b[0;34m\u001b[0m\u001b[0m\n\u001b[0;32m----> 3\u001b[0;31m \u001b[0mmydatastory\u001b[0m\u001b[0;34m.\u001b[0m\u001b[0mwhatisthis\u001b[0m\u001b[0;34m(\u001b[0m\u001b[0;34m)\u001b[0m\u001b[0;34m\u001b[0m\u001b[0m\n\u001b[0m",
      "\u001b[0;31mAttributeError\u001b[0m: module 'mydatastory' has no attribute 'whatisthis'"
     ]
    }
   ],
   "source": [
    "import mydatastory\n",
    "\n",
    "mydatastory.whatisthis()"
   ]
  },
  {
   "cell_type": "code",
   "execution_count": null,
   "metadata": {},
   "outputs": [],
   "source": []
  }
 ],
 "metadata": {
  "kernelspec": {
   "display_name": "Python 3",
   "language": "python",
   "name": "python3"
  },
  "language_info": {
   "codemirror_mode": {
    "name": "ipython",
    "version": 3
   },
   "file_extension": ".py",
   "mimetype": "text/x-python",
   "name": "python",
   "nbconvert_exporter": "python",
   "pygments_lexer": "ipython3",
   "version": "3.7.0"
  }
 },
 "nbformat": 4,
 "nbformat_minor": 2
}
